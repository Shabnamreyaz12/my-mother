{
  "nbformat": 4,
  "nbformat_minor": 0,
  "metadata": {
    "colab": {
      "provenance": [],
      "authorship_tag": "ABX9TyMVPHUXwZUCw6l8WzwZACkX",
      "include_colab_link": true
    },
    "kernelspec": {
      "name": "python3",
      "display_name": "Python 3"
    },
    "language_info": {
      "name": "python"
    }
  },
  "cells": [
    {
      "cell_type": "markdown",
      "metadata": {
        "id": "view-in-github",
        "colab_type": "text"
      },
      "source": [
        "<a href=\"https://colab.research.google.com/github/Shabnamreyaz12/my-mother/blob/main/Calculator1.ipynb\" target=\"_parent\"><img src=\"https://colab.research.google.com/assets/colab-badge.svg\" alt=\"Open In Colab\"/></a>"
      ]
    },
    {
      "cell_type": "code",
      "source": [
        "# Simple Calculator in Google Colab\n",
        "\n",
        "def calculator():\n",
        "    print(\"Welcome to the Simple Calculator!\")\n",
        "    print(\"Select the operation:\")\n",
        "    print(\"1. Addition (+)\")\n",
        "    print(\"2. Subtraction (-)\")\n",
        "    print(\"3. Multiplication (*)\")\n",
        "    print(\"4. Division (/)\")\n",
        "    print(\"5. Exit\")\n",
        "\n",
        "    while True:\n",
        "        try:\n",
        "            # Ask the user for the operation\n",
        "            choice = input(\"\\nEnter your choice (1/2/3/4/5): \")\n",
        "\n",
        "            if choice == '5':\n",
        "                print(\"Exiting the calculator. Goodbye!\")\n",
        "                break\n",
        "\n",
        "            # Check for valid operation choice\n",
        "            if choice not in ['1', '2', '3', '4']:\n",
        "                print(\"Invalid choice. Please select a valid operation.\")\n",
        "                continue\n",
        "\n",
        "            # Input numbers from the user\n",
        "            num1 = float(input(\"Enter the first number: \"))\n",
        "            num2 = float(input(\"Enter the second number: \"))\n",
        "\n",
        "            # Perform the calculation\n",
        "            if choice == '1':\n",
        "                print(f\"The result of addition: {num1} + {num2} = {num1 + num2}\")\n",
        "            elif choice == '2':\n",
        "                print(f\"The result of subtraction: {num1} - {num2} = {num1 - num2}\")\n",
        "            elif choice == '3':\n",
        "                print(f\"The result of multiplication: {num1} * {num2} = {num1 * num2}\")\n",
        "            elif choice == '4':\n",
        "                if num2 != 0:\n",
        "                    print(f\"The result of division: {num1} / {num2} = {num1 / num2}\")\n",
        "                else:\n",
        "                    print(\"Error! Division by zero is not allowed.\")\n",
        "        except ValueError:\n",
        "            print(\"Invalid input. Please enter numeric values.\")\n",
        "\n",
        "# Run the calculator\n",
        "calculator()\n"
      ],
      "metadata": {
        "colab": {
          "base_uri": "https://localhost:8080/"
        },
        "id": "Fs2ue-mHcUkM",
        "outputId": "de93d44e-0286-42b6-8fcf-57945dc51e9a"
      },
      "execution_count": null,
      "outputs": [
        {
          "metadata": {
            "tags": null
          },
          "name": "stdout",
          "output_type": "stream",
          "text": [
            "Welcome to the Simple Calculator!\n",
            "Select the operation:\n",
            "1. Addition (+)\n",
            "2. Subtraction (-)\n",
            "3. Multiplication (*)\n",
            "4. Division (/)\n",
            "5. Exit\n",
            "The result of multiplication: 60.0 * 100.0 = 6000.0\n"
          ]
        }
      ]
    }
  ]
}